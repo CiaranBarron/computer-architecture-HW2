{
 "cells": [
  {
   "cell_type": "markdown",
   "metadata": {},
   "source": [
    "# Multiprocessing using Pools \n",
    "A simple framework for assessing the impact of multiprocessing on runtime on a multi-core machine. "
   ]
  },
  {
   "cell_type": "code",
   "execution_count": 1,
   "metadata": {},
   "outputs": [],
   "source": [
    "import time\n",
    "import math\n",
    "import multiprocessing\n",
    "from multiprocessing import Pool\n",
    "import matplotlib.pyplot as plt\n",
    "\n",
    "# A function for timing a job that uses a pool of processes.\n",
    "#  f is a function that takes a single argument\n",
    "#  data is an array of arguments on which f will be mapped\n",
    "#  pool_size is the number of processes in the pool. \n",
    "def pool_process(f, data, pool_size):\n",
    "    tp1 = time.time()\n",
    "    pool = Pool(processes=pool_size) # initialize the Pool.\n",
    "    result = pool.map(f, data)       # map f to the data using the Pool of processes to do the work \n",
    "    pool.close() # No more processes\n",
    "    pool.join()  # Wait for the pool processing to complete. \n",
    "    \n",
    "    return int(time.time()-tp1)\n",
    " "
   ]
  },
  {
   "cell_type": "markdown",
   "metadata": {},
   "source": [
    "## Load Target function separately \n",
    "The target function needs to be loaded in from a separate python file.\n",
    "So save this function declaration in a file miscFunc.py\n",
    "\n",
    "    import math\n",
    "\n",
    "    def my_func(x):  \n",
    "        s = math.sqrt(x)  \n",
    "        return s\n",
    "    "
   ]
  },
  {
   "cell_type": "code",
   "execution_count": 2,
   "metadata": {},
   "outputs": [],
   "source": [
    "import miscFunc as miscFunc # if miscFunc.py is changed the kernel needs to be restarted. "
   ]
  },
  {
   "cell_type": "markdown",
   "metadata": {
    "collapsed": true
   },
   "source": [
    "This verbose version shows which process in the pool is running each task.   \n",
    "Put this definition in miscFunc.py as well.  \n",
    "\n",
    "    def my_func_verbose(x):\n",
    "        s = math.sqrt(x)\n",
    "        print(\"Task\", multiprocessing.current_process(), x, s)\n",
    "        return s"
   ]
  },
  {
   "cell_type": "code",
   "execution_count": 3,
   "metadata": {},
   "outputs": [],
   "source": [
    "dataRange = range(20)"
   ]
  },
  {
   "cell_type": "markdown",
   "metadata": {},
   "source": [
    "Use the pool_process function to apply my_func to the data in dataRange.  \n",
    "This task is so light it requires very little processing time. "
   ]
  },
  {
   "cell_type": "code",
   "execution_count": 4,
   "metadata": {},
   "outputs": [
    {
     "data": {
      "text/plain": [
       "0"
      ]
     },
     "execution_count": 4,
     "metadata": {},
     "output_type": "execute_result"
    }
   ],
   "source": [
    "dataRange = range(10)\n",
    "pool_process(miscFunc.my_func, dataRange, 1)"
   ]
  },
  {
   "cell_type": "markdown",
   "metadata": {},
   "source": [
    "## A naive function for checking primes "
   ]
  },
  {
   "cell_type": "code",
   "execution_count": 5,
   "metadata": {},
   "outputs": [],
   "source": [
    "check_work = [45,13,4]"
   ]
  },
  {
   "cell_type": "code",
   "execution_count": 6,
   "metadata": {},
   "outputs": [
    {
     "name": "stdout",
     "output_type": "stream",
     "text": [
      "Task <ForkProcess(ForkPoolWorker-2, started daemon)> 45 6.708203932499369\n",
      "Task <ForkProcess(ForkPoolWorker-2, started daemon)> 13 3.605551275463989\n",
      "Task <ForkProcess(ForkPoolWorker-2, started daemon)> 4 2.0\n"
     ]
    },
    {
     "data": {
      "text/plain": [
       "0"
      ]
     },
     "execution_count": 6,
     "metadata": {},
     "output_type": "execute_result"
    }
   ],
   "source": [
    "pool_process(miscFunc.my_func_verbose, check_work, 1)"
   ]
  },
  {
   "cell_type": "code",
   "execution_count": 7,
   "metadata": {},
   "outputs": [],
   "source": [
    "prime_data =[]\n",
    "file = open(\"primes.txt\",\"r\")\n",
    "for line in file:\n",
    "    line = line.split()\n",
    "    for number in line:\n",
    "        prime_data.append(int(number))"
   ]
  },
  {
   "cell_type": "code",
   "execution_count": 8,
   "metadata": {
    "scrolled": false
   },
   "outputs": [
    {
     "data": {
      "text/plain": [
       "58"
      ]
     },
     "execution_count": 8,
     "metadata": {},
     "output_type": "execute_result"
    }
   ],
   "source": [
    "result = pool_process(miscFunc.check_prime, prime_data, 4)\n",
    "result"
   ]
  },
  {
   "cell_type": "code",
   "execution_count": null,
   "metadata": {},
   "outputs": [],
   "source": [
    "ncores = 6\n",
    "cores = []\n",
    "times = []\n",
    "    \n",
    "\"\"\"Run through number of available cores and test time taken\"\"\"\n",
    "for nc in range(1,ncores+1):\n",
    "    cores.append(nc)\n",
    "    times.append(pool_process(miscFunc.check_prime, prime_data, nc))"
   ]
  },
  {
   "cell_type": "code",
   "execution_count": 26,
   "metadata": {},
   "outputs": [],
   "source": [
    "from scipy.optimize import curve_fit\n",
    "import numpy as np\n",
    "\n",
    "def fitting_function(cores,a,b,c):\n",
    "    return a*np.exp(-b*cores) + c\n",
    "\n",
    "p, c = curve_fit(fitting_function, cores, times)\n",
    "\n",
    "fitted_cores = np.linspace(1,6,100)\n",
    "fitted_times = fitting_function(fitted_cores, *p)"
   ]
  },
  {
   "cell_type": "code",
   "execution_count": 27,
   "metadata": {},
   "outputs": [
    {
     "data": {
      "text/plain": [
       "[<matplotlib.lines.Line2D at 0x7fb09d4760b8>]"
      ]
     },
     "execution_count": 27,
     "metadata": {},
     "output_type": "execute_result"
    },
    {
     "data": {
      "image/png": "[encoded data removed]",
      "text/plain": [
       "<Figure size 432x288 with 1 Axes>"
      ]
     },
     "metadata": {
      "needs_background": "light"
     },
     "output_type": "display_data"
    }
   ],
   "source": [
    "plt.figure()\n",
    "plt.title(\"Relationship between run time and number of cores\")\n",
    "plt.xlabel('No. cores')\n",
    "plt.ylabel('Time (s)')\n",
    "\n",
    "plt.plot(fitted_cores, \n",
    "         fitted_times,\n",
    "         'r--', \n",
    "         label = r'Time = {0:.2f}e^{{1:.2f}*Cores} + {2:.2f}'.format(*p)\n",
    ")\n",
    "\n",
    "plt.plot(cores,\n",
    "         times, \n",
    "         'bo', \n",
    "         label='Data points'\n",
    ")\n"
   ]
  },
  {
   "cell_type": "code",
   "execution_count": null,
   "metadata": {},
   "outputs": [],
   "source": []
  }
 ],
 "metadata": {
  "anaconda-cloud": {},
  "kernelspec": {
   "display_name": "Python 3",
   "language": "python",
   "name": "python3"
  },
  "language_info": {
   "codemirror_mode": {
    "name": "ipython",
    "version": 3
   },
   "file_extension": ".py",
   "mimetype": "text/x-python",
   "name": "python",
   "nbconvert_exporter": "python",
   "pygments_lexer": "ipython3",
   "version": "3.6.7"
  }
 },
 "nbformat": 4,
 "nbformat_minor": 1
}
