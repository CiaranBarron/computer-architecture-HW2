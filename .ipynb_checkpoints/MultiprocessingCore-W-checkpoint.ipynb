{
 "cells": [
  {
   "cell_type": "markdown",
   "metadata": {},
   "source": [
    "# Multiprocessing using Pools \n",
    "A simple framework for assessing the impact of multiprocessing on runtime on a multi-core machine. "
   ]
  },
  {
   "cell_type": "code",
   "execution_count": 1,
   "metadata": {},
   "outputs": [
    {
     "ename": "ModuleNotFoundError",
     "evalue": "No module named 'matplotlib'",
     "output_type": "error",
     "traceback": [
      "\u001b[0;31m---------------------------------------------------------------------------\u001b[0m",
      "\u001b[0;31mModuleNotFoundError\u001b[0m                       Traceback (most recent call last)",
      "\u001b[0;32m<ipython-input-1-195c3d4321a3>\u001b[0m in \u001b[0;36m<module>\u001b[0;34m\u001b[0m\n\u001b[1;32m      3\u001b[0m \u001b[0;32mimport\u001b[0m \u001b[0mmultiprocessing\u001b[0m\u001b[0;34m\u001b[0m\u001b[0;34m\u001b[0m\u001b[0m\n\u001b[1;32m      4\u001b[0m \u001b[0;32mfrom\u001b[0m \u001b[0mmultiprocessing\u001b[0m \u001b[0;32mimport\u001b[0m \u001b[0mPool\u001b[0m\u001b[0;34m\u001b[0m\u001b[0;34m\u001b[0m\u001b[0m\n\u001b[0;32m----> 5\u001b[0;31m \u001b[0;32mimport\u001b[0m \u001b[0mmatplotlib\u001b[0m\u001b[0;34m.\u001b[0m\u001b[0mpyplot\u001b[0m \u001b[0;32mas\u001b[0m \u001b[0mplt\u001b[0m\u001b[0;34m\u001b[0m\u001b[0;34m\u001b[0m\u001b[0m\n\u001b[0m\u001b[1;32m      6\u001b[0m \u001b[0;34m\u001b[0m\u001b[0m\n\u001b[1;32m      7\u001b[0m \u001b[0;31m# A function for timing a job that uses a pool of processes.\u001b[0m\u001b[0;34m\u001b[0m\u001b[0;34m\u001b[0m\u001b[0;34m\u001b[0m\u001b[0m\n",
      "\u001b[0;31mModuleNotFoundError\u001b[0m: No module named 'matplotlib'"
     ]
    }
   ],
   "source": [
    "import time\n",
    "import math\n",
    "import multiprocessing\n",
    "from multiprocessing import Pool\n",
    "import matplotlib.pyplot as plt\n",
    "\n",
    "# A function for timing a job that uses a pool of processes.\n",
    "#  f is a function that takes a single argument\n",
    "#  data is an array of arguments on which f will be mapped\n",
    "#  pool_size is the number of processes in the pool. \n",
    "def pool_process(f, data, pool_size):\n",
    "    tp1 = time.time()\n",
    "    pool = Pool(processes=pool_size) # initialize the Pool.\n",
    "    result = pool.map(f, data)       # map f to the data using the Pool of processes to do the work \n",
    "    pool.close() # No more processes\n",
    "    pool.join()  # Wait for the pool processing to complete. \n",
    "    \n",
    "    return int(time.time()-tp1)\n",
    " "
   ]
  },
  {
   "cell_type": "markdown",
   "metadata": {},
   "source": [
    "## Load Target function separately \n",
    "The target function needs to be loaded in from a separate python file.\n",
    "So save this function declaration in a file miscFunc.py\n",
    "\n",
    "    import math\n",
    "\n",
    "    def my_func(x):  \n",
    "        s = math.sqrt(x)  \n",
    "        return s\n",
    "    "
   ]
  },
  {
   "cell_type": "code",
   "execution_count": 2,
   "metadata": {},
   "outputs": [],
   "source": [
    "import miscFunc as miscFunc # if miscFunc.py is changed the kernel needs to be restarted. "
   ]
  },
  {
   "cell_type": "markdown",
   "metadata": {
    "collapsed": true
   },
   "source": [
    "This verbose version shows which process in the pool is running each task.   \n",
    "Put this definition in miscFunc.py as well.  \n",
    "\n",
    "    def my_func_verbose(x):\n",
    "        s = math.sqrt(x)\n",
    "        print(\"Task\", multiprocessing.current_process(), x, s)\n",
    "        return s"
   ]
  },
  {
   "cell_type": "code",
   "execution_count": 3,
   "metadata": {},
   "outputs": [],
   "source": [
    "dataRange = range(20)"
   ]
  },
  {
   "cell_type": "markdown",
   "metadata": {},
   "source": [
    "Use the pool_process function to apply my_func to the data in dataRange.  \n",
    "This task is so light it requires very little processing time. "
   ]
  },
  {
   "cell_type": "code",
   "execution_count": 4,
   "metadata": {},
   "outputs": [
    {
     "data": {
      "text/plain": [
       "0"
      ]
     },
     "execution_count": 4,
     "metadata": {},
     "output_type": "execute_result"
    }
   ],
   "source": [
    "dataRange = range(10)\n",
    "pool_process(miscFunc.my_func, dataRange, 1)"
   ]
  },
  {
   "cell_type": "markdown",
   "metadata": {},
   "source": [
    "## A naive function for checking primes "
   ]
  },
  {
   "cell_type": "code",
   "execution_count": 5,
   "metadata": {},
   "outputs": [],
   "source": [
    "check_work = [45,13,4]"
   ]
  },
  {
   "cell_type": "code",
   "execution_count": 6,
   "metadata": {},
   "outputs": [
    {
     "name": "stdout",
     "output_type": "stream",
     "text": [
      "Task <ForkProcess(ForkPoolWorker-2, started daemon)> 45 6.708203932499369\n",
      "Task <ForkProcess(ForkPoolWorker-2, started daemon)> 13 3.605551275463989\n",
      "Task <ForkProcess(ForkPoolWorker-2, started daemon)> 4 2.0\n"
     ]
    },
    {
     "data": {
      "text/plain": [
       "0"
      ]
     },
     "execution_count": 6,
     "metadata": {},
     "output_type": "execute_result"
    }
   ],
   "source": [
    "pool_process(miscFunc.my_func_verbose, check_work, 1)"
   ]
  },
  {
   "cell_type": "code",
   "execution_count": 7,
   "metadata": {},
   "outputs": [],
   "source": [
    "prime_data =[]\n",
    "file = open(\"primes.txt\",\"r\")\n",
    "for line in file:\n",
    "    line = line.split()\n",
    "    for number in line:\n",
    "        prime_data.append(int(number))"
   ]
  },
  {
   "cell_type": "code",
   "execution_count": 8,
   "metadata": {
    "scrolled": false
   },
   "outputs": [
    {
     "data": {
      "text/plain": [
       "58"
      ]
     },
     "execution_count": 8,
     "metadata": {},
     "output_type": "execute_result"
    }
   ],
   "source": [
    "result = pool_process(miscFunc.check_prime, prime_data, 4)\n",
    "result"
   ]
  },
  {
   "cell_type": "markdown",
   "metadata": {},
   "source": [
    "**Running tests**"
   ]
  },
  {
   "cell_type": "code",
   "execution_count": 28,
   "metadata": {},
   "outputs": [],
   "source": [
    "ncores = 6\n",
    "cores = []\n",
    "times = []\n",
    "    \n",
    "\"\"\"Run through number of available cores and test time taken\"\"\"\n",
    "for nc in range(1,ncores+1):\n",
    "    cores.append(nc)\n",
    "    times.append(pool_process(miscFunc.check_prime, prime_data, nc))"
   ]
  },
  {
   "cell_type": "markdown",
   "metadata": {},
   "source": [
    "**Fitting functions**"
   ]
  },
  {
   "cell_type": "code",
   "execution_count": 54,
   "metadata": {},
   "outputs": [],
   "source": [
    "from scipy.optimize import curve_fit\n",
    "import numpy as np\n",
    "\n",
    "def fitting_function(cores,a,b,c):\n",
    "    return a*np.exp(-b*cores) + c\n",
    "\n",
    "p, c = curve_fit(fitting_function, cores, times)\n",
    "\n",
    "fitted_cores = np.linspace(1,6,100)\n",
    "fitted_times = fitting_function(fitted_cores, *p)"
   ]
  },
  {
   "cell_type": "markdown",
   "metadata": {},
   "source": [
    "**Plotting**"
   ]
  },
  {
   "cell_type": "code",
   "execution_count": 56,
   "metadata": {},
   "outputs": [
    {
     "data": {
      "image/png": "[encoded data removed]",
      "text/plain": [
       "<Figure size 720x432 with 1 Axes>"
      ]
     },
     "metadata": {
      "needs_background": "light"
     },
     "output_type": "display_data"
    }
   ],
   "source": [
    "plt.rc('font',size=12)\n",
    "plt.figure(figsize=(10,6))\n",
    "plt.title(\"Relationship between run time and number of cores\")\n",
    "plt.xlabel('No. cores')\n",
    "plt.ylabel('Time (s)')\n",
    "\n",
    "plt.plot(fitted_cores, \n",
    "         fitted_times,\n",
    "         'r--', \n",
    "         label = r\"Time = %0.2f * exp(%0.2f * Cores) + %0.2f\" % (p[0],p[1],p[2])\n",
    ")\n",
    "\n",
    "plt.plot(cores,\n",
    "         times, \n",
    "         'bo', \n",
    "         label='Data points'\n",
    ")\n",
    "plt.legend(loc='best')\n",
    "plt.savefig('TIMEvCORES_VM.png')"
   ]
  },
  {
   "cell_type": "markdown",
   "metadata": {},
   "source": [
    "**Testing changing number of samples**"
   ]
  },
  {
   "cell_type": "code",
   "execution_count": null,
   "metadata": {},
   "outputs": [],
   "source": [
    "\"\"\"vary number of processes (only go from 2 cores up to save time)\"\"\"\n",
    "\n",
    "ncores = 6\n",
    "vcores = []\n",
    "vtimes = []\n",
    "    \n",
    "\"\"\"Run through number of available cores and test time taken\"\"\"\n",
    "for vnc in range(2,ncores+1):\n",
    "    tempcores = []\n",
    "    temptimes = []\n",
    "    for data in [prime_data[:100000], prime_data[:500000], prime_data]:\n",
    "        tempcores.append(vnc)\n",
    "        temptimes.append(pool_process(miscFunc.check_prime, data, vnc))\n",
    "    vcores.append(tempcores)\n",
    "    vtimes.append(temptimes)"
   ]
  },
  {
   "cell_type": "code",
   "execution_count": 76,
   "metadata": {},
   "outputs": [
    {
     "data": {
      "text/plain": [
       "[[2, 3, 4, 5, 6], [2, 3, 4, 5, 6], [2, 3, 4, 5, 6]]"
      ]
     },
     "execution_count": 76,
     "metadata": {},
     "output_type": "execute_result"
    }
   ],
   "source": [
    "vcores_test = []\n",
    "\n",
    "for col in range(len(vcores[0])):\n",
    "    temp_holder = []\n",
    "    for row in vcores:\n",
    "        temp_holder.append(row[col])\n",
    "    vcores_test.append(temp_holder)\n",
    "vcores_test"
   ]
  },
  {
   "cell_type": "code",
   "execution_count": 79,
   "metadata": {},
   "outputs": [
    {
     "data": {
      "text/plain": [
       "[[112, 78, 59, 48, 41], [109, 78, 58, 48, 42], [110, 78, 59, 50, 42]]"
      ]
     },
     "execution_count": 79,
     "metadata": {},
     "output_type": "execute_result"
    }
   ],
   "source": [
    "vtimes_test = []\n",
    "for col in range(len(vtimes[0])):\n",
    "    temp_holder = []\n",
    "    for row in vtimes:\n",
    "        temp_holder.append(row[col])\n",
    "    vtimes_test.append(temp_holder)\n",
    "vtimes_test"
   ]
  },
  {
   "cell_type": "code",
   "execution_count": 85,
   "metadata": {},
   "outputs": [
    {
     "name": "stdout",
     "output_type": "stream",
     "text": [
      "[2, 3, 4, 5, 6] [112, 78, 59, 48, 41]\n",
      "[2, 3, 4, 5, 6] [109, 78, 58, 48, 42]\n",
      "[2, 3, 4, 5, 6] [110, 78, 59, 50, 42]\n"
     ]
    },
    {
     "name": "stderr",
     "output_type": "stream",
     "text": [
      "/home/ciaran/.local/lib/python3.6/site-packages/ipykernel_launcher.py:5: RuntimeWarning: overflow encountered in exp\n",
      "  \"\"\"\n"
     ]
    }
   ],
   "source": [
    "ps = []\n",
    "fitted_cores_t = []\n",
    "fitted_times_t = []\n",
    "\n",
    "for idx in range(len(vtimes_test)):\n",
    "    \n",
    "    pcores = vcores_test[idx]\n",
    "    ptimes = vtimes_test[idx]\n",
    "    \n",
    "    print(pcores, ptimes)\n",
    "    \n",
    "    pt, ct = curve_fit(fitting_function, pcores, ptimes)\n",
    "    \n",
    "    ps.append(pt)\n",
    "    fitted_cores_t.append(np.linspace(1,6,100))\n",
    "    fitted_times_t.append(fitting_function(fitted_cores_t[idx], *pt))"
   ]
  },
  {
   "cell_type": "code",
   "execution_count": 101,
   "metadata": {},
   "outputs": [
    {
     "data": {
      "image/png": "[encoded data removed]",
      "text/plain": [
       "<Figure size 720x432 with 1 Axes>"
      ]
     },
     "metadata": {
      "needs_background": "light"
     },
     "output_type": "display_data"
    }
   ],
   "source": [
    "plt.rc('font',size=12)\n",
    "plt.figure(figsize=(10,6))\n",
    "plt.title(\"Varying sample size\")\n",
    "plt.xlabel('No. cores')\n",
    "plt.ylabel('Time (s)')\n",
    "\n",
    "sizes = [100000,\n",
    "         500000, \n",
    "         1000000\n",
    "        ]\n",
    "\n",
    "for index in range(len(vcores_test)):\n",
    "\n",
    "    cores_temp = vcores[index]\n",
    "    times_temp = vtimes[index]\n",
    "    fitted_cores_temp = fitted_cores_t[index]\n",
    "    fitted_times_temp = fitted_times_t[index]\n",
    "    size = sizes[index]\n",
    "    p = ps[index]\n",
    "    \n",
    "    plt.plot(fitted_cores_temp, \n",
    "             fitted_times_temp,\n",
    "             'r--', \n",
    "             label = r\"Time = %0.2f * exp(%0.2f * Cores) + %0.2f\" % (p[0],p[1],p[2])\n",
    "    )\n",
    "\n",
    "    plt.plot(cores_temp,\n",
    "             times_temp, \n",
    "             'bo', \n",
    "             label=f'Data points'\n",
    "    )\n",
    "\n",
    "plt.legend(loc='best')\n",
    "plt.savefig('VariedSamples.png')"
   ]
  }
 ],
 "metadata": {
  "anaconda-cloud": {},
  "kernelspec": {
   "display_name": "Python 3",
   "language": "python",
   "name": "python3"
  }
 },
 "nbformat": 4,
 "nbformat_minor": 1
}
